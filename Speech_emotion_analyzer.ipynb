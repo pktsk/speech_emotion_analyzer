{
 "cells": [
  {
   "cell_type": "code",
   "execution_count": 17,
   "metadata": {},
   "outputs": [],
   "source": [
    "import librosa\n",
    "import librosa.display\n",
    "import numpy as np\n",
    "import matplotlib.pyplot as plt\n",
    "import tensorflow as tf\n",
    "from matplotlib.pyplot import specgram\n",
    "import keras\n",
    "from keras.preprocessing import sequence\n",
    "from keras.models import Sequential\n",
    "from keras.layers import Dense, Embedding\n",
    "from keras.layers import LSTM\n",
    "from keras.preprocessing.text import Tokenizer\n",
    "from keras.preprocessing.sequence import pad_sequences\n",
    "from keras.utils import to_categorical\n",
    "from keras.layers import Input, Flatten, Dropout, Activation\n",
    "from keras.layers import Conv1D, MaxPooling1D, AveragePooling1D\n",
    "from keras.models import Model\n",
    "from keras.callbacks import ModelCheckpoint\n",
    "from sklearn.metrics import confusion_matrix\n",
    "from keras import regularizers\n",
    "import os"
   ]
  },
  {
   "cell_type": "markdown",
   "metadata": {},
   "source": [
    "## Plotting the audio file's waveform and its spectrogram"
   ]
  },
  {
   "cell_type": "markdown",
   "metadata": {},
   "source": [
    "## Angry"
   ]
  },
  {
   "cell_type": "code",
   "execution_count": 104,
   "metadata": {},
   "outputs": [],
   "source": [
    "#angry\n",
    "df = pd.DataFrame(columns=['feature'])\n",
    "data, sample_rate = librosa.load('data/1_1.wav',  res_type='kaiser_fast',duration=2,sr=22050*2, offset = .5)\n",
    "sample_rate = np.array(sample_rate)\n",
    "mfccs = np.mean(librosa.feature.mfcc(y=data, \n",
    "                                    sr=sample_rate, \n",
    "                                    n_mfcc=13),\n",
    "                axis=0)\n",
    "feature1 = mfccs\n",
    "feature1 = np.array(feature1)\n",
    "feature1 = np.array([abs(feature1[i]) for i in range(len(feature1) - 1)])\n",
    "df.loc[0] = [feature1]\n",
    "\n",
    "data, sample_rate = librosa.load('data/1_100.wav',  res_type='kaiser_fast',duration=2,sr=22050*2, offset = .5)\n",
    "sample_rate = np.array(sample_rate)\n",
    "mfccs = np.mean(librosa.feature.mfcc(y=data, \n",
    "                                    sr=sample_rate, \n",
    "                                    n_mfcc=13),\n",
    "                axis=0)\n",
    "feature2 = mfccs\n",
    "feature2 = np.array(feature2)\n",
    "feature2 = np.array([abs(feature2[i]) for i in range(len(feature2) - 1)])\n",
    "df.loc[1] = [feature2]\n",
    "\n",
    "\n",
    "data, sample_rate = librosa.load('data/1_200.wav',  res_type='kaiser_fast',duration=2,sr=22050*2, offset = .5)\n",
    "sample_rate = np.array(sample_rate)\n",
    "mfccs = np.mean(librosa.feature.mfcc(y=data, \n",
    "                                    sr=sample_rate, \n",
    "                                    n_mfcc=13),\n",
    "                axis=0)\n",
    "feature3 = mfccs\n",
    "feature3 = np.array(feature3)\n",
    "feature3 = np.array([abs(feature3[i]) for i in range(len(feature3) - 1)])\n",
    "df.loc[2] = [feature3]\n",
    "\n",
    "\n",
    "data, sample_rate = librosa.load('data/1_300.wav',  res_type='kaiser_fast',duration=2,sr=22050*2, offset = .5)\n",
    "sample_rate = np.array(sample_rate)\n",
    "mfccs = np.mean(librosa.feature.mfcc(y=data, \n",
    "                                    sr=sample_rate, \n",
    "                                    n_mfcc=13),\n",
    "                axis=0)\n",
    "feature4 = mfccs\n",
    "feature4 = np.array(feature4)\n",
    "feature4 = np.array([abs(feature4[i]) for i in range(len(feature4) - 1)])\n",
    "df.loc[3] = [feature4]\n",
    "\n",
    "df = pd.DataFrame(df['feature'].values.tolist())"
   ]
  },
  {
   "cell_type": "code",
   "execution_count": 105,
   "metadata": {},
   "outputs": [],
   "source": [
    "df = df.fillna(0)"
   ]
  },
  {
   "cell_type": "code",
   "execution_count": 106,
   "metadata": {},
   "outputs": [
    {
     "data": {
      "text/plain": [
       "(<module 'matplotlib.pyplot' from '/Users/pktsk/miniconda3/envs/tensorflow/lib/python3.5/site-packages/matplotlib/pyplot.py'>,\n",
       " <matplotlib.image.AxesImage at 0x1c2fba9710>)"
      ]
     },
     "execution_count": 106,
     "metadata": {},
     "output_type": "execute_result"
    },
    {
     "data": {
      "image/png": "[encoded data removed]",
      "text/plain": [
       "<Figure size 432x288 with 1 Axes>"
      ]
     },
     "metadata": {
      "needs_background": "light"
     },
     "output_type": "display_data"
    }
   ],
   "source": [
    "plt,imshow((np.array(df.iloc[0])).reshape(10, 14), cmap=\"gray\")"
   ]
  },
  {
   "cell_type": "code",
   "execution_count": 107,
   "metadata": {},
   "outputs": [
    {
     "data": {
      "text/plain": [
       "(<module 'matplotlib.pyplot' from '/Users/pktsk/miniconda3/envs/tensorflow/lib/python3.5/site-packages/matplotlib/pyplot.py'>,\n",
       " <matplotlib.image.AxesImage at 0x1c2fb5ff60>)"
      ]
     },
     "execution_count": 107,
     "metadata": {},
     "output_type": "execute_result"
    },
    {
     "data": {
      "image/png": "[encoded data removed]",
      "text/plain": [
       "<Figure size 432x288 with 1 Axes>"
      ]
     },
     "metadata": {
      "needs_background": "light"
     },
     "output_type": "display_data"
    }
   ],
   "source": [
    "plt,imshow((np.array(df.iloc[1])).reshape(10, 14), cmap=\"gray\")"
   ]
  },
  {
   "cell_type": "code",
   "execution_count": 108,
   "metadata": {},
   "outputs": [
    {
     "data": {
      "text/plain": [
       "(<module 'matplotlib.pyplot' from '/Users/pktsk/miniconda3/envs/tensorflow/lib/python3.5/site-packages/matplotlib/pyplot.py'>,\n",
       " <matplotlib.image.AxesImage at 0x1c2fb65898>)"
      ]
     },
     "execution_count": 108,
     "metadata": {},
     "output_type": "execute_result"
    },
    {
     "data": {
      "image/png": "[encoded data removed]",
      "text/plain": [
       "<Figure size 432x288 with 1 Axes>"
      ]
     },
     "metadata": {
      "needs_background": "light"
     },
     "output_type": "display_data"
    }
   ],
   "source": [
    "plt,imshow((np.array(df.iloc[2])).reshape(10, 14), cmap=\"gray\")"
   ]
  },
  {
   "cell_type": "code",
   "execution_count": 109,
   "metadata": {},
   "outputs": [
    {
     "data": {
      "text/plain": [
       "(<module 'matplotlib.pyplot' from '/Users/pktsk/miniconda3/envs/tensorflow/lib/python3.5/site-packages/matplotlib/pyplot.py'>,\n",
       " <matplotlib.image.AxesImage at 0x110a69518>)"
      ]
     },
     "execution_count": 109,
     "metadata": {},
     "output_type": "execute_result"
    },
    {
     "data": {
      "image/png": "[encoded data removed]",
      "text/plain": [
       "<Figure size 432x288 with 1 Axes>"
      ]
     },
     "metadata": {
      "needs_background": "light"
     },
     "output_type": "display_data"
    }
   ],
   "source": [
    "plt,imshow((np.array(df.iloc[3])).reshape(10, 14), cmap=\"gray\")"
   ]
  },
  {
   "cell_type": "markdown",
   "metadata": {},
   "source": [
    "## fear"
   ]
  },
  {
   "cell_type": "code",
   "execution_count": 111,
   "metadata": {},
   "outputs": [],
   "source": [
    "#fear\n",
    "df = pd.DataFrame(columns=['feature'])\n",
    "data, sample_rate = librosa.load('data/3_1.wav',  res_type='kaiser_fast',duration=2,sr=22050*2, offset = .5)\n",
    "sample_rate = np.array(sample_rate)\n",
    "mfccs = np.mean(librosa.feature.mfcc(y=data, \n",
    "                                    sr=sample_rate, \n",
    "                                    n_mfcc=13),\n",
    "                axis=0)\n",
    "feature1 = mfccs\n",
    "feature1 = np.array(feature1)\n",
    "feature1 = np.array([abs(feature1[i]) for i in range(len(feature1) - 1)])\n",
    "df.loc[0] = [feature1]\n",
    "\n",
    "data, sample_rate = librosa.load('data/3_100.wav',  res_type='kaiser_fast',duration=2,sr=22050*2, offset = .5)\n",
    "sample_rate = np.array(sample_rate)\n",
    "mfccs = np.mean(librosa.feature.mfcc(y=data, \n",
    "                                    sr=sample_rate, \n",
    "                                    n_mfcc=13),\n",
    "                axis=0)\n",
    "feature2 = mfccs\n",
    "feature2 = np.array(feature2)\n",
    "feature2 = np.array([abs(feature2[i]) for i in range(len(feature2) - 1)])\n",
    "df.loc[1] = [feature2]\n",
    "\n",
    "\n",
    "data, sample_rate = librosa.load('data/3_200.wav',  res_type='kaiser_fast',duration=2,sr=22050*2, offset = .5)\n",
    "sample_rate = np.array(sample_rate)\n",
    "mfccs = np.mean(librosa.feature.mfcc(y=data, \n",
    "                                    sr=sample_rate, \n",
    "                                    n_mfcc=13),\n",
    "                axis=0)\n",
    "feature3 = mfccs\n",
    "feature3 = np.array(feature3)\n",
    "feature3 = np.array([abs(feature3[i]) for i in range(len(feature3) - 1)])\n",
    "df.loc[2] = [feature3]\n",
    "\n",
    "\n",
    "data, sample_rate = librosa.load('data/3_300.wav',  res_type='kaiser_fast',duration=2,sr=22050*2, offset = .5)\n",
    "sample_rate = np.array(sample_rate)\n",
    "mfccs = np.mean(librosa.feature.mfcc(y=data, \n",
    "                                    sr=sample_rate, \n",
    "                                    n_mfcc=13),\n",
    "                axis=0)\n",
    "feature4 = mfccs\n",
    "feature4 = np.array(feature4)\n",
    "feature4 = np.array([abs(feature4[i]) for i in range(len(feature4) - 1)])\n",
    "df.loc[3] = [feature4]\n",
    "\n",
    "df = pd.DataFrame(df['feature'].values.tolist())\n",
    "df = df.fillna(0)"
   ]
  },
  {
   "cell_type": "code",
   "execution_count": 112,
   "metadata": {},
   "outputs": [
    {
     "data": {
      "text/plain": [
       "(<module 'matplotlib.pyplot' from '/Users/pktsk/miniconda3/envs/tensorflow/lib/python3.5/site-packages/matplotlib/pyplot.py'>,\n",
       " <matplotlib.image.AxesImage at 0x1c30c736a0>)"
      ]
     },
     "execution_count": 112,
     "metadata": {},
     "output_type": "execute_result"
    },
    {
     "data": {
      "image/png": "[encoded data removed]",
      "text/plain": [
       "<Figure size 432x288 with 1 Axes>"
      ]
     },
     "metadata": {
      "needs_background": "light"
     },
     "output_type": "display_data"
    }
   ],
   "source": [
    "plt,imshow((np.array(df.iloc[0])).reshape(16, 7), cmap=\"gray\")"
   ]
  },
  {
   "cell_type": "code",
   "execution_count": 113,
   "metadata": {},
   "outputs": [
    {
     "data": {
      "text/plain": [
       "(<module 'matplotlib.pyplot' from '/Users/pktsk/miniconda3/envs/tensorflow/lib/python3.5/site-packages/matplotlib/pyplot.py'>,\n",
       " <matplotlib.image.AxesImage at 0x110cd8908>)"
      ]
     },
     "execution_count": 113,
     "metadata": {},
     "output_type": "execute_result"
    },
    {
     "data": {
      "image/png": "[encoded data removed]",
      "text/plain": [
       "<Figure size 432x288 with 1 Axes>"
      ]
     },
     "metadata": {
      "needs_background": "light"
     },
     "output_type": "display_data"
    }
   ],
   "source": [
    "plt,imshow((np.array(df.iloc[1])).reshape(16, 7), cmap=\"gray\")"
   ]
  },
  {
   "cell_type": "code",
   "execution_count": 114,
   "metadata": {},
   "outputs": [
    {
     "data": {
      "text/plain": [
       "(<module 'matplotlib.pyplot' from '/Users/pktsk/miniconda3/envs/tensorflow/lib/python3.5/site-packages/matplotlib/pyplot.py'>,\n",
       " <matplotlib.image.AxesImage at 0x1c30ca2a58>)"
      ]
     },
     "execution_count": 114,
     "metadata": {},
     "output_type": "execute_result"
    },
    {
     "data": {
      "image/png": "[encoded data removed]",
      "text/plain": [
       "<Figure size 432x288 with 1 Axes>"
      ]
     },
     "metadata": {
      "needs_background": "light"
     },
     "output_type": "display_data"
    }
   ],
   "source": [
    "plt,imshow((np.array(df.iloc[2])).reshape(16, 7), cmap=\"gray\")"
   ]
  },
  {
   "cell_type": "code",
   "execution_count": 115,
   "metadata": {},
   "outputs": [
    {
     "data": {
      "text/plain": [
       "(<module 'matplotlib.pyplot' from '/Users/pktsk/miniconda3/envs/tensorflow/lib/python3.5/site-packages/matplotlib/pyplot.py'>,\n",
       " <matplotlib.image.AxesImage at 0x1c31439128>)"
      ]
     },
     "execution_count": 115,
     "metadata": {},
     "output_type": "execute_result"
    },
    {
     "data": {
      "image/png": "[encoded data removed]",
      "text/plain": [
       "<Figure size 432x288 with 1 Axes>"
      ]
     },
     "metadata": {
      "needs_background": "light"
     },
     "output_type": "display_data"
    }
   ],
   "source": [
    "plt,imshow((np.array(df.iloc[3])).reshape(16, 7), cmap=\"gray\")"
   ]
  },
  {
   "cell_type": "code",
   "execution_count": 116,
   "metadata": {},
   "outputs": [
    {
     "data": {
      "image/png": "[encoded data removed]",
      "text/plain": [
       "<Figure size 432x288 with 1 Axes>"
      ]
     },
     "metadata": {
      "needs_background": "light"
     },
     "output_type": "display_data"
    }
   ],
   "source": [
    "\n",
    "import matplotlib.pyplot as plt\n",
    "import scipy.io.wavfile\n",
    "import numpy as np\n",
    "import sys\n",
    "\n",
    "\n",
    "sr,x = scipy.io.wavfile.read('data/3_300.wav')\n",
    "\n",
    "## Parameters: 10ms step, 30ms window\n",
    "nstep = int(sr * 0.01)\n",
    "nwin  = int(sr * 0.03)\n",
    "nfft = nwin\n",
    "\n",
    "window = np.hamming(nwin)\n",
    "\n",
    "## will take windows x[n1:n2].  generate\n",
    "## and loop over n2 such that all frames\n",
    "## fit within the waveform\n",
    "nn = range(nwin, len(x), nstep)\n",
    "\n",
    "X = np.zeros( (len(nn), nfft//2) )\n",
    "\n",
    "for i,n in enumerate(nn):\n",
    "    xseg = x[n-nwin:n]\n",
    "    z = np.fft.fft(window * xseg, nfft)\n",
    "    X[i,:] = np.log(np.abs(z[:nfft//2]))\n",
    "\n",
    "plt.imshow(X.T, interpolation='nearest',\n",
    "    origin='lower',\n",
    "    aspect='auto')\n",
    "\n",
    "plt.show()"
   ]
  },
  {
   "cell_type": "markdown",
   "metadata": {},
   "source": [
    "## Data extraction"
   ]
  },
  {
   "cell_type": "code",
   "execution_count": 117,
   "metadata": {},
   "outputs": [],
   "source": [
    "mylist= os.listdir('data/')\n",
    "len(mylist)\n",
    "\n",
    "df = pd.DataFrame(columns=['feature'])\n",
    "labels = pd.DataFrame(columns=['labels'])\n",
    "bookmark=0\n",
    "feeling_list = []\n",
    "del mylist[410]\n",
    "len(mylist)\n",
    "for index,y in enumerate(mylist):\n",
    "    X, sample_rate = librosa.load('data/'+y,  res_type='kaiser_fast',duration=2,sr=22050*2, offset = .5)\n",
    "    sample_rate = np.array(sample_rate)\n",
    "    mfccs = np.mean(librosa.feature.mfcc(y=X, \n",
    "                                        sr=sample_rate, \n",
    "                                        n_mfcc=13),\n",
    "                    axis=0)\n",
    "    feature = mfccs\n",
    "    df.loc[bookmark] = [feature]\n",
    "    labels.loc[bookmark] = [int(y[0])]\n",
    "    bookmark=bookmark+1     "
   ]
  },
  {
   "cell_type": "code",
   "execution_count": 122,
   "metadata": {},
   "outputs": [
    {
     "name": "stdout",
     "output_type": "stream",
     "text": [
      "(2800, 173)\n"
     ]
    }
   ],
   "source": [
    "\n",
    "df3 = pd.DataFrame(df['feature'].values.tolist())\n",
    "print(df3.shape)\n",
    "label2 = pd.DataFrame(labels['labels'].values.tolist())"
   ]
  },
  {
   "cell_type": "code",
   "execution_count": 123,
   "metadata": {},
   "outputs": [],
   "source": [
    "newdf = pd.concat([df3,label2], axis=1)\n",
    "newdf = newdf.fillna(0)\n",
    "from sklearn.utils import shuffle\n",
    "rnewdf = shuffle(newdf)"
   ]
  },
  {
   "cell_type": "code",
   "execution_count": 124,
   "metadata": {},
   "outputs": [],
   "source": [
    "from sklearn.model_selection import train_test_split\n",
    "trainfeatures, testfeatures, trainlabel, testlabel = train_test_split(rnewdf.iloc[:, :-1], rnewdf.iloc[:, -1:],\n",
    "                                                    stratify=rnewdf.iloc[:, -1:], \n",
    "                                                    test_size=0.2)"
   ]
  },
  {
   "cell_type": "code",
   "execution_count": 125,
   "metadata": {},
   "outputs": [
    {
     "name": "stderr",
     "output_type": "stream",
     "text": [
      "/Users/pktsk/miniconda3/envs/tensorflow/lib/python3.5/site-packages/sklearn/preprocessing/label.py:235: DataConversionWarning: A column-vector y was passed when a 1d array was expected. Please change the shape of y to (n_samples, ), for example using ravel().\n",
      "  y = column_or_1d(y, warn=True)\n"
     ]
    }
   ],
   "source": [
    "from keras.utils import np_utils\n",
    "from sklearn.preprocessing import LabelEncoder\n",
    "\n",
    "X_train = np.array(trainfeatures)\n",
    "y_train = np.array(trainlabel)\n",
    "X_test = np.array(testfeatures)\n",
    "y_test = np.array(testlabel)\n",
    "\n",
    "lb = LabelEncoder()\n",
    "\n",
    "y_train = np_utils.to_categorical(lb.fit_transform(y_train))\n",
    "y_test = np_utils.to_categorical(lb.fit_transform(y_test))"
   ]
  },
  {
   "cell_type": "code",
   "execution_count": 126,
   "metadata": {},
   "outputs": [
    {
     "data": {
      "text/plain": [
       "(2240, 173)"
      ]
     },
     "execution_count": 126,
     "metadata": {},
     "output_type": "execute_result"
    }
   ],
   "source": [
    "X_train.shape"
   ]
  },
  {
   "cell_type": "markdown",
   "metadata": {},
   "source": [
    "## Changing dimension for CNN model"
   ]
  },
  {
   "cell_type": "code",
   "execution_count": 127,
   "metadata": {},
   "outputs": [],
   "source": [
    "x_traincnn =np.expand_dims(X_train, axis=2)\n",
    "x_testcnn= np.expand_dims(X_test, axis=2)"
   ]
  },
  {
   "cell_type": "code",
   "execution_count": 18,
   "metadata": {},
   "outputs": [],
   "source": [
    "model = Sequential()\n",
    "\n",
    "model.add(Conv1D(256, 5, padding='same',\n",
    "                 input_shape=(173, 1)))\n",
    "model.add(Activation('relu'))\n",
    "model.add(Conv1D(128, 5, padding='same'))\n",
    "model.add(Activation('relu'))\n",
    "model.add(Dropout(0.1))\n",
    "model.add(MaxPooling1D(pool_size=(8)))\n",
    "model.add(Conv1D(128, 5, padding='same',))\n",
    "model.add(Activation('relu'))\n",
    "model.add(Conv1D(128, 5, padding='same',))\n",
    "model.add(Activation('relu'))\n",
    "model.add(Conv1D(128, 5, padding='same',))\n",
    "model.add(Activation('relu'))\n",
    "model.add(Dropout(0.2))\n",
    "model.add(Conv1D(128, 5, padding='same',))\n",
    "model.add(Activation('relu'))\n",
    "model.add(Flatten())\n",
    "model.add(Dense(7))\n",
    "model.add(Activation('softmax'))\n",
    "opt = keras.optimizers.rmsprop(lr=0.00001, decay=1e-6)"
   ]
  },
  {
   "cell_type": "code",
   "execution_count": 19,
   "metadata": {},
   "outputs": [
    {
     "name": "stdout",
     "output_type": "stream",
     "text": [
      "_________________________________________________________________\n",
      "Layer (type)                 Output Shape              Param #   \n",
      "=================================================================\n",
      "conv1d_9 (Conv1D)            (None, 173, 256)          1536      \n",
      "_________________________________________________________________\n",
      "activation_11 (Activation)   (None, 173, 256)          0         \n",
      "_________________________________________________________________\n",
      "conv1d_10 (Conv1D)           (None, 173, 128)          163968    \n",
      "_________________________________________________________________\n",
      "activation_12 (Activation)   (None, 173, 128)          0         \n",
      "_________________________________________________________________\n",
      "dropout_3 (Dropout)          (None, 173, 128)          0         \n",
      "_________________________________________________________________\n",
      "max_pooling1d_3 (MaxPooling1 (None, 21, 128)           0         \n",
      "_________________________________________________________________\n",
      "conv1d_11 (Conv1D)           (None, 21, 128)           82048     \n",
      "_________________________________________________________________\n",
      "activation_13 (Activation)   (None, 21, 128)           0         \n",
      "_________________________________________________________________\n",
      "conv1d_12 (Conv1D)           (None, 21, 128)           82048     \n",
      "_________________________________________________________________\n",
      "activation_14 (Activation)   (None, 21, 128)           0         \n",
      "_________________________________________________________________\n",
      "conv1d_13 (Conv1D)           (None, 21, 128)           82048     \n",
      "_________________________________________________________________\n",
      "activation_15 (Activation)   (None, 21, 128)           0         \n",
      "_________________________________________________________________\n",
      "dropout_4 (Dropout)          (None, 21, 128)           0         \n",
      "_________________________________________________________________\n",
      "conv1d_14 (Conv1D)           (None, 21, 128)           82048     \n",
      "_________________________________________________________________\n",
      "activation_16 (Activation)   (None, 21, 128)           0         \n",
      "_________________________________________________________________\n",
      "flatten_3 (Flatten)          (None, 2688)              0         \n",
      "_________________________________________________________________\n",
      "dense_3 (Dense)              (None, 7)                 18823     \n",
      "_________________________________________________________________\n",
      "activation_17 (Activation)   (None, 7)                 0         \n",
      "=================================================================\n",
      "Total params: 512,519\n",
      "Trainable params: 512,519\n",
      "Non-trainable params: 0\n",
      "_________________________________________________________________\n"
     ]
    }
   ],
   "source": [
    "model.summary()"
   ]
  },
  {
   "cell_type": "code",
   "execution_count": 15,
   "metadata": {},
   "outputs": [],
   "source": [
    "model.compile(loss='categorical_crossentropy', optimizer=opt,metrics=['accuracy'])"
   ]
  },
  {
   "cell_type": "code",
   "execution_count": null,
   "metadata": {},
   "outputs": [
    {
     "name": "stdout",
     "output_type": "stream",
     "text": [
      "Train on 2240 samples, validate on 560 samples\n",
      "Epoch 1/200\n",
      "2240/2240 [==============================] - 17s - loss: 1.9362 - acc: 0.2790 - val_loss: 1.9116 - val_acc: 0.3393\n",
      "Epoch 2/200\n",
      "2240/2240 [==============================] - 17s - loss: 1.8099 - acc: 0.3411 - val_loss: 1.7009 - val_acc: 0.3804\n",
      "Epoch 3/200\n",
      "2240/2240 [==============================] - 18s - loss: 1.5317 - acc: 0.4433 - val_loss: 1.4572 - val_acc: 0.4250\n",
      "Epoch 4/200\n",
      "2240/2240 [==============================] - 18s - loss: 1.3504 - acc: 0.4879 - val_loss: 1.3430 - val_acc: 0.4964\n",
      "Epoch 5/200\n",
      "2240/2240 [==============================] - 18s - loss: 1.2744 - acc: 0.5049 - val_loss: 1.2859 - val_acc: 0.5125\n",
      "Epoch 6/200\n",
      "2240/2240 [==============================] - 18s - loss: 1.2292 - acc: 0.5241 - val_loss: 1.2553 - val_acc: 0.5107\n",
      "Epoch 7/200\n",
      "2240/2240 [==============================] - 16s - loss: 1.2033 - acc: 0.5411 - val_loss: 1.2366 - val_acc: 0.5321\n",
      "Epoch 8/200\n",
      "2240/2240 [==============================] - 16s - loss: 1.1793 - acc: 0.5397 - val_loss: 1.2354 - val_acc: 0.4875\n",
      "Epoch 9/200\n",
      "2240/2240 [==============================] - 18s - loss: 1.1628 - acc: 0.5460 - val_loss: 1.2089 - val_acc: 0.5393\n",
      "Epoch 10/200\n",
      "2240/2240 [==============================] - 18s - loss: 1.1491 - acc: 0.5496 - val_loss: 1.1773 - val_acc: 0.5304\n",
      "Epoch 11/200\n",
      "2240/2240 [==============================] - 19s - loss: 1.1326 - acc: 0.5571 - val_loss: 1.1596 - val_acc: 0.5554\n",
      "Epoch 12/200\n",
      "2240/2240 [==============================] - 18s - loss: 1.1241 - acc: 0.5589 - val_loss: 1.1442 - val_acc: 0.5625\n",
      "Epoch 13/200\n",
      "2240/2240 [==============================] - 18s - loss: 1.1086 - acc: 0.5558 - val_loss: 1.1508 - val_acc: 0.5214\n",
      "Epoch 14/200\n",
      "2240/2240 [==============================] - 18s - loss: 1.1000 - acc: 0.5687 - val_loss: 1.1262 - val_acc: 0.5589\n",
      "Epoch 15/200\n",
      "2240/2240 [==============================] - 17s - loss: 1.0852 - acc: 0.5768 - val_loss: 1.1082 - val_acc: 0.5732\n",
      "Epoch 16/200\n",
      "2240/2240 [==============================] - 17s - loss: 1.0785 - acc: 0.5710 - val_loss: 1.1069 - val_acc: 0.5750\n",
      "Epoch 17/200\n",
      "2240/2240 [==============================] - 18s - loss: 1.0632 - acc: 0.5871 - val_loss: 1.1060 - val_acc: 0.5821\n",
      "Epoch 18/200\n",
      "2240/2240 [==============================] - 18s - loss: 1.0587 - acc: 0.5844 - val_loss: 1.0861 - val_acc: 0.5821\n",
      "Epoch 19/200\n",
      "2240/2240 [==============================] - 19s - loss: 1.0453 - acc: 0.5866 - val_loss: 1.0769 - val_acc: 0.5786\n",
      "Epoch 20/200\n",
      "2240/2240 [==============================] - 19s - loss: 1.0345 - acc: 0.5879 - val_loss: 1.0751 - val_acc: 0.5929\n",
      "Epoch 21/200\n",
      "2240/2240 [==============================] - 18s - loss: 1.0219 - acc: 0.5929 - val_loss: 1.0573 - val_acc: 0.5982\n",
      "Epoch 22/200\n",
      "2240/2240 [==============================] - 19s - loss: 1.0106 - acc: 0.6080 - val_loss: 1.0515 - val_acc: 0.5786\n",
      "Epoch 23/200\n",
      "2240/2240 [==============================] - 20s - loss: 1.0037 - acc: 0.6058 - val_loss: 1.0522 - val_acc: 0.5732\n",
      "Epoch 24/200\n",
      "2240/2240 [==============================] - 24s - loss: 0.9889 - acc: 0.6232 - val_loss: 1.0302 - val_acc: 0.6214\n",
      "Epoch 25/200\n",
      "2240/2240 [==============================] - 19s - loss: 0.9768 - acc: 0.6192 - val_loss: 1.0299 - val_acc: 0.6000\n",
      "Epoch 26/200\n",
      "2240/2240 [==============================] - 22s - loss: 0.9685 - acc: 0.6259 - val_loss: 1.0286 - val_acc: 0.6071\n",
      "Epoch 27/200\n",
      "2240/2240 [==============================] - 21s - loss: 0.9559 - acc: 0.6362 - val_loss: 1.0030 - val_acc: 0.6107\n",
      "Epoch 28/200\n",
      "2240/2240 [==============================] - 19s - loss: 0.9478 - acc: 0.6339 - val_loss: 0.9993 - val_acc: 0.6054\n",
      "Epoch 29/200\n",
      "2240/2240 [==============================] - 20s - loss: 0.9336 - acc: 0.6424 - val_loss: 0.9859 - val_acc: 0.6214\n",
      "Epoch 30/200\n",
      "2240/2240 [==============================] - 19s - loss: 0.9248 - acc: 0.6531 - val_loss: 0.9814 - val_acc: 0.6268\n",
      "Epoch 31/200\n",
      "2240/2240 [==============================] - 19s - loss: 0.9181 - acc: 0.6562 - val_loss: 0.9737 - val_acc: 0.6232\n",
      "Epoch 32/200\n",
      "2240/2240 [==============================] - 19s - loss: 0.9089 - acc: 0.6567 - val_loss: 0.9713 - val_acc: 0.6321\n",
      "Epoch 33/200\n",
      "2240/2240 [==============================] - 19s - loss: 0.8928 - acc: 0.6625 - val_loss: 0.9900 - val_acc: 0.5839\n",
      "Epoch 34/200\n",
      "2240/2240 [==============================] - 19s - loss: 0.8823 - acc: 0.6527 - val_loss: 0.9487 - val_acc: 0.6411\n",
      "Epoch 35/200\n",
      "2240/2240 [==============================] - 19s - loss: 0.8766 - acc: 0.6656 - val_loss: 0.9585 - val_acc: 0.6393\n",
      "Epoch 36/200\n",
      "2240/2240 [==============================] - 19s - loss: 0.8708 - acc: 0.6714 - val_loss: 0.9180 - val_acc: 0.6607\n",
      "Epoch 37/200\n",
      "2240/2240 [==============================] - 20s - loss: 0.7584 - acc: 0.7125 - val_loss: 0.8273 - val_acc: 0.6839\n",
      "Epoch 51/200\n",
      "2240/2240 [==============================] - 19s - loss: 0.7548 - acc: 0.7192 - val_loss: 0.8419 - val_acc: 0.7000\n",
      "Epoch 52/200\n",
      "2240/2240 [==============================] - 19s - loss: 0.7505 - acc: 0.7232 - val_loss: 0.8171 - val_acc: 0.7000\n",
      "Epoch 53/200\n",
      "2240/2240 [==============================] - 19s - loss: 0.7396 - acc: 0.7286 - val_loss: 0.8195 - val_acc: 0.7071\n",
      "Epoch 54/200\n",
      "2240/2240 [==============================] - 19s - loss: 0.7357 - acc: 0.7259 - val_loss: 0.8231 - val_acc: 0.6875\n",
      "Epoch 55/200\n",
      "2240/2240 [==============================] - 19s - loss: 0.7274 - acc: 0.7384 - val_loss: 0.8168 - val_acc: 0.7071\n",
      "Epoch 56/200\n",
      "2240/2240 [==============================] - 19s - loss: 0.7239 - acc: 0.7362 - val_loss: 0.7883 - val_acc: 0.7125\n",
      "Epoch 57/200\n",
      "2240/2240 [==============================] - 19s - loss: 0.7149 - acc: 0.7335 - val_loss: 0.8060 - val_acc: 0.7143\n",
      "Epoch 58/200\n",
      "2240/2240 [==============================] - 19s - loss: 0.7087 - acc: 0.7393 - val_loss: 0.8051 - val_acc: 0.6964\n",
      "Epoch 59/200\n",
      "2240/2240 [==============================] - 19s - loss: 0.7051 - acc: 0.7321 - val_loss: 0.7679 - val_acc: 0.7214\n",
      "Epoch 60/200\n",
      "2240/2240 [==============================] - 19s - loss: 0.6889 - acc: 0.7509 - val_loss: 0.7763 - val_acc: 0.7071\n",
      "Epoch 61/200\n",
      "1568/2240 [====================>.........] - ETA: 5s - loss: 0.6872 - acc: 0.7423"
     ]
    }
   ],
   "source": [
    "cnnhistory=model.fit(x_traincnn, y_train, batch_size=16, epochs=200, validation_data=(x_testcnn, y_test))"
   ]
  },
  {
   "cell_type": "code",
   "execution_count": 30,
   "metadata": {},
   "outputs": [
    {
     "data": {
      "image/png": "[encoded data removed]",
      "text/plain": [
       "<Figure size 432x288 with 1 Axes>"
      ]
     },
     "metadata": {
      "needs_background": "light"
     },
     "output_type": "display_data"
    }
   ],
   "source": [
    "plt.plot(cnnhistory.history['loss'])\n",
    "plt.plot(cnnhistory.history['val_loss'])\n",
    "plt.title('model loss')\n",
    "plt.ylabel('loss')\n",
    "plt.xlabel('epoch')\n",
    "plt.legend(['train', 'test'], loc='upper left')\n",
    "plt.show()"
   ]
  },
  {
   "cell_type": "code",
   "execution_count": 1,
   "metadata": {},
   "outputs": [
    {
     "ename": "NameError",
     "evalue": "name 'os' is not defined",
     "output_type": "error",
     "traceback": [
      "\u001b[0;31m---------------------------------------------------------------------------\u001b[0m",
      "\u001b[0;31mNameError\u001b[0m                                 Traceback (most recent call last)",
      "\u001b[0;32m<ipython-input-1-a4f68c2bf018>\u001b[0m in \u001b[0;36m<module>\u001b[0;34m()\u001b[0m\n\u001b[1;32m      1\u001b[0m \u001b[0mmodel_name\u001b[0m \u001b[0;34m=\u001b[0m \u001b[0;34m'Emotion_Voice_Detection_Model.h5'\u001b[0m\u001b[0;34m\u001b[0m\u001b[0m\n\u001b[0;32m----> 2\u001b[0;31m \u001b[0msave_dir\u001b[0m \u001b[0;34m=\u001b[0m \u001b[0mos\u001b[0m\u001b[0;34m.\u001b[0m\u001b[0mpath\u001b[0m\u001b[0;34m.\u001b[0m\u001b[0mjoin\u001b[0m\u001b[0;34m(\u001b[0m\u001b[0mos\u001b[0m\u001b[0;34m.\u001b[0m\u001b[0mgetcwd\u001b[0m\u001b[0;34m(\u001b[0m\u001b[0;34m)\u001b[0m\u001b[0;34m,\u001b[0m \u001b[0;34m'saved_models'\u001b[0m\u001b[0;34m)\u001b[0m\u001b[0;34m\u001b[0m\u001b[0m\n\u001b[0m\u001b[1;32m      3\u001b[0m \u001b[0;31m# Save model and weights\u001b[0m\u001b[0;34m\u001b[0m\u001b[0;34m\u001b[0m\u001b[0m\n\u001b[1;32m      4\u001b[0m \u001b[0;32mif\u001b[0m \u001b[0;32mnot\u001b[0m \u001b[0mos\u001b[0m\u001b[0;34m.\u001b[0m\u001b[0mpath\u001b[0m\u001b[0;34m.\u001b[0m\u001b[0misdir\u001b[0m\u001b[0;34m(\u001b[0m\u001b[0msave_dir\u001b[0m\u001b[0;34m)\u001b[0m\u001b[0;34m:\u001b[0m\u001b[0;34m\u001b[0m\u001b[0m\n\u001b[1;32m      5\u001b[0m     \u001b[0mos\u001b[0m\u001b[0;34m.\u001b[0m\u001b[0mmakedirs\u001b[0m\u001b[0;34m(\u001b[0m\u001b[0msave_dir\u001b[0m\u001b[0;34m)\u001b[0m\u001b[0;34m\u001b[0m\u001b[0m\n",
      "\u001b[0;31mNameError\u001b[0m: name 'os' is not defined"
     ]
    }
   ],
   "source": [
    "model_name = 'Emotion_Voice_Detection_Model.h5'\n",
    "save_dir = os.path.join(os.getcwd(), 'saved_models')\n",
    "# Save model and weights\n",
    "if not os.path.isdir(save_dir):\n",
    "    os.makedirs(save_dir)\n",
    "model_path = os.path.join(save_dir, model_name)\n",
    "model.save(model_path)\n",
    "print('Saved trained model at %s ' % model_path)"
   ]
  },
  {
   "cell_type": "code",
   "execution_count": 3,
   "metadata": {},
   "outputs": [
    {
     "ename": "NameError",
     "evalue": "name 'model' is not defined",
     "output_type": "error",
     "traceback": [
      "\u001b[0;31m---------------------------------------------------------------------------\u001b[0m",
      "\u001b[0;31mNameError\u001b[0m                                 Traceback (most recent call last)",
      "\u001b[0;32m<ipython-input-3-d9088286f1d5>\u001b[0m in \u001b[0;36m<module>\u001b[0;34m()\u001b[0m\n\u001b[1;32m      1\u001b[0m \u001b[0;32mimport\u001b[0m \u001b[0mjson\u001b[0m\u001b[0;34m\u001b[0m\u001b[0m\n\u001b[0;32m----> 2\u001b[0;31m \u001b[0mmodel_json\u001b[0m \u001b[0;34m=\u001b[0m \u001b[0mmodel\u001b[0m\u001b[0;34m.\u001b[0m\u001b[0mto_json\u001b[0m\u001b[0;34m(\u001b[0m\u001b[0;34m)\u001b[0m\u001b[0;34m\u001b[0m\u001b[0m\n\u001b[0m\u001b[1;32m      3\u001b[0m \u001b[0;32mwith\u001b[0m \u001b[0mopen\u001b[0m\u001b[0;34m(\u001b[0m\u001b[0;34m\"model.json\"\u001b[0m\u001b[0;34m,\u001b[0m \u001b[0;34m\"w\"\u001b[0m\u001b[0;34m)\u001b[0m \u001b[0;32mas\u001b[0m \u001b[0mjson_file\u001b[0m\u001b[0;34m:\u001b[0m\u001b[0;34m\u001b[0m\u001b[0m\n\u001b[1;32m      4\u001b[0m     \u001b[0mjson_file\u001b[0m\u001b[0;34m.\u001b[0m\u001b[0mwrite\u001b[0m\u001b[0;34m(\u001b[0m\u001b[0mmodel_json\u001b[0m\u001b[0;34m)\u001b[0m\u001b[0;34m\u001b[0m\u001b[0m\n",
      "\u001b[0;31mNameError\u001b[0m: name 'model' is not defined"
     ]
    }
   ],
   "source": [
    "import json\n",
    "model_json = model.to_json()\n",
    "with open(\"model.json\", \"w\") as json_file:\n",
    "    json_file.write(model_json)"
   ]
  },
  {
   "cell_type": "code",
   "execution_count": 16,
   "metadata": {},
   "outputs": [
    {
     "ename": "KeyError",
     "evalue": "0",
     "output_type": "error",
     "traceback": [
      "\u001b[0;31m---------------------------------------------------------------------------\u001b[0m",
      "\u001b[0;31mKeyError\u001b[0m                                  Traceback (most recent call last)",
      "\u001b[0;32m<ipython-input-16-4cda35e9e9ab>\u001b[0m in \u001b[0;36m<module>\u001b[0;34m()\u001b[0m\n\u001b[1;32m      5\u001b[0m \u001b[0mloaded_model_json\u001b[0m \u001b[0;34m=\u001b[0m \u001b[0mjson_file\u001b[0m\u001b[0;34m.\u001b[0m\u001b[0mread\u001b[0m\u001b[0;34m(\u001b[0m\u001b[0;34m)\u001b[0m\u001b[0;34m\u001b[0m\u001b[0m\n\u001b[1;32m      6\u001b[0m \u001b[0mjson_file\u001b[0m\u001b[0;34m.\u001b[0m\u001b[0mclose\u001b[0m\u001b[0;34m(\u001b[0m\u001b[0;34m)\u001b[0m\u001b[0;34m\u001b[0m\u001b[0m\n\u001b[0;32m----> 7\u001b[0;31m \u001b[0mloaded_model\u001b[0m \u001b[0;34m=\u001b[0m \u001b[0mmodel_from_json\u001b[0m\u001b[0;34m(\u001b[0m\u001b[0mloaded_model_json\u001b[0m\u001b[0;34m)\u001b[0m\u001b[0;34m\u001b[0m\u001b[0m\n\u001b[0m\u001b[1;32m      8\u001b[0m \u001b[0;31m# load weights into new model\u001b[0m\u001b[0;34m\u001b[0m\u001b[0;34m\u001b[0m\u001b[0m\n\u001b[1;32m      9\u001b[0m \u001b[0mloaded_model\u001b[0m\u001b[0;34m.\u001b[0m\u001b[0mload_weights\u001b[0m\u001b[0;34m(\u001b[0m\u001b[0;34m\"saved_models/Emotion_Voice_Detection_Model.h5\"\u001b[0m\u001b[0;34m)\u001b[0m\u001b[0;34m\u001b[0m\u001b[0m\n",
      "\u001b[0;32m~/miniconda3/envs/tensorflow/lib/python3.5/site-packages/keras/models.py\u001b[0m in \u001b[0;36mmodel_from_json\u001b[0;34m(json_string, custom_objects)\u001b[0m\n\u001b[1;32m    344\u001b[0m     \"\"\"\n\u001b[1;32m    345\u001b[0m     \u001b[0mconfig\u001b[0m \u001b[0;34m=\u001b[0m \u001b[0mjson\u001b[0m\u001b[0;34m.\u001b[0m\u001b[0mloads\u001b[0m\u001b[0;34m(\u001b[0m\u001b[0mjson_string\u001b[0m\u001b[0;34m)\u001b[0m\u001b[0;34m\u001b[0m\u001b[0m\n\u001b[0;32m--> 346\u001b[0;31m     \u001b[0;32mreturn\u001b[0m \u001b[0mlayer_module\u001b[0m\u001b[0;34m.\u001b[0m\u001b[0mdeserialize\u001b[0m\u001b[0;34m(\u001b[0m\u001b[0mconfig\u001b[0m\u001b[0;34m,\u001b[0m \u001b[0mcustom_objects\u001b[0m\u001b[0;34m=\u001b[0m\u001b[0mcustom_objects\u001b[0m\u001b[0;34m)\u001b[0m\u001b[0;34m\u001b[0m\u001b[0m\n\u001b[0m\u001b[1;32m    347\u001b[0m \u001b[0;34m\u001b[0m\u001b[0m\n\u001b[1;32m    348\u001b[0m \u001b[0;34m\u001b[0m\u001b[0m\n",
      "\u001b[0;32m~/miniconda3/envs/tensorflow/lib/python3.5/site-packages/keras/layers/__init__.py\u001b[0m in \u001b[0;36mdeserialize\u001b[0;34m(config, custom_objects)\u001b[0m\n\u001b[1;32m     52\u001b[0m                                     \u001b[0mmodule_objects\u001b[0m\u001b[0;34m=\u001b[0m\u001b[0mglobs\u001b[0m\u001b[0;34m,\u001b[0m\u001b[0;34m\u001b[0m\u001b[0m\n\u001b[1;32m     53\u001b[0m                                     \u001b[0mcustom_objects\u001b[0m\u001b[0;34m=\u001b[0m\u001b[0mcustom_objects\u001b[0m\u001b[0;34m,\u001b[0m\u001b[0;34m\u001b[0m\u001b[0m\n\u001b[0;32m---> 54\u001b[0;31m                                     printable_module_name='layer')\n\u001b[0m",
      "\u001b[0;32m~/miniconda3/envs/tensorflow/lib/python3.5/site-packages/keras/utils/generic_utils.py\u001b[0m in \u001b[0;36mdeserialize_keras_object\u001b[0;34m(identifier, module_objects, custom_objects, printable_module_name)\u001b[0m\n\u001b[1;32m    138\u001b[0m                 return cls.from_config(config['config'],\n\u001b[1;32m    139\u001b[0m                                        custom_objects=dict(list(_GLOBAL_CUSTOM_OBJECTS.items()) +\n\u001b[0;32m--> 140\u001b[0;31m                                                            list(custom_objects.items())))\n\u001b[0m\u001b[1;32m    141\u001b[0m             \u001b[0;32mwith\u001b[0m \u001b[0mCustomObjectScope\u001b[0m\u001b[0;34m(\u001b[0m\u001b[0mcustom_objects\u001b[0m\u001b[0;34m)\u001b[0m\u001b[0;34m:\u001b[0m\u001b[0;34m\u001b[0m\u001b[0m\n\u001b[1;32m    142\u001b[0m                 \u001b[0;32mreturn\u001b[0m \u001b[0mcls\u001b[0m\u001b[0;34m.\u001b[0m\u001b[0mfrom_config\u001b[0m\u001b[0;34m(\u001b[0m\u001b[0mconfig\u001b[0m\u001b[0;34m[\u001b[0m\u001b[0;34m'config'\u001b[0m\u001b[0;34m]\u001b[0m\u001b[0;34m)\u001b[0m\u001b[0;34m\u001b[0m\u001b[0m\n",
      "\u001b[0;32m~/miniconda3/envs/tensorflow/lib/python3.5/site-packages/keras/models.py\u001b[0m in \u001b[0;36mfrom_config\u001b[0;34m(cls, config, custom_objects)\u001b[0m\n\u001b[1;32m   1209\u001b[0m     \u001b[0;34m@\u001b[0m\u001b[0mclassmethod\u001b[0m\u001b[0;34m\u001b[0m\u001b[0m\n\u001b[1;32m   1210\u001b[0m     \u001b[0;32mdef\u001b[0m \u001b[0mfrom_config\u001b[0m\u001b[0;34m(\u001b[0m\u001b[0mcls\u001b[0m\u001b[0;34m,\u001b[0m \u001b[0mconfig\u001b[0m\u001b[0;34m,\u001b[0m \u001b[0mcustom_objects\u001b[0m\u001b[0;34m=\u001b[0m\u001b[0;32mNone\u001b[0m\u001b[0;34m)\u001b[0m\u001b[0;34m:\u001b[0m\u001b[0;34m\u001b[0m\u001b[0m\n\u001b[0;32m-> 1211\u001b[0;31m         \u001b[0;32mif\u001b[0m \u001b[0;34m'class_name'\u001b[0m \u001b[0;32mnot\u001b[0m \u001b[0;32min\u001b[0m \u001b[0mconfig\u001b[0m\u001b[0;34m[\u001b[0m\u001b[0;36m0\u001b[0m\u001b[0;34m]\u001b[0m \u001b[0;32mor\u001b[0m \u001b[0mconfig\u001b[0m\u001b[0;34m[\u001b[0m\u001b[0;36m0\u001b[0m\u001b[0;34m]\u001b[0m\u001b[0;34m[\u001b[0m\u001b[0;34m'class_name'\u001b[0m\u001b[0;34m]\u001b[0m \u001b[0;34m==\u001b[0m \u001b[0;34m'Merge'\u001b[0m\u001b[0;34m:\u001b[0m\u001b[0;34m\u001b[0m\u001b[0m\n\u001b[0m\u001b[1;32m   1212\u001b[0m             \u001b[0;32mreturn\u001b[0m \u001b[0mcls\u001b[0m\u001b[0;34m.\u001b[0m\u001b[0mlegacy_from_config\u001b[0m\u001b[0;34m(\u001b[0m\u001b[0mconfig\u001b[0m\u001b[0;34m)\u001b[0m\u001b[0;34m\u001b[0m\u001b[0m\n\u001b[1;32m   1213\u001b[0m \u001b[0;34m\u001b[0m\u001b[0m\n",
      "\u001b[0;31mKeyError\u001b[0m: 0"
     ]
    }
   ],
   "source": [
    "# loading json and creating model\n",
    "import json\n",
    "from keras.models import model_from_json\n",
    "json_file = open('model.json', 'r')\n",
    "loaded_model_json = json_file.read()\n",
    "json_file.close()\n",
    "loaded_model = model_from_json(loaded_model_json)\n",
    "# load weights into new model\n",
    "loaded_model.load_weights(\"saved_models/Emotion_Voice_Detection_Model.h5\")\n",
    "print(\"Loaded model from disk\")\n",
    " \n",
    "# # evaluate loaded model on test data\n",
    "# loaded_model.compile(loss='categorical_crossentropy', optimizer=opt, metrics=['accuracy'])\n",
    "# score = loaded_model.evaluate(x_testcnn, y_test, verbose=0)\n",
    "# print(\"%s: %.2f%%\" % (loaded_model.metrics_names[1], score[1]*100))"
   ]
  },
  {
   "cell_type": "code",
   "execution_count": 11,
   "metadata": {},
   "outputs": [
    {
     "ename": "NameError",
     "evalue": "name 'loaded_model' is not defined",
     "output_type": "error",
     "traceback": [
      "\u001b[0;31m---------------------------------------------------------------------------\u001b[0m",
      "\u001b[0;31mNameError\u001b[0m                                 Traceback (most recent call last)",
      "\u001b[0;32m<ipython-input-11-acc875209841>\u001b[0m in \u001b[0;36m<module>\u001b[0;34m()\u001b[0m\n\u001b[0;32m----> 1\u001b[0;31m preds = loaded_model.predict(x_testcnn, \n\u001b[0m\u001b[1;32m      2\u001b[0m                          \u001b[0mbatch_size\u001b[0m\u001b[0;34m=\u001b[0m\u001b[0;36m32\u001b[0m\u001b[0;34m,\u001b[0m\u001b[0;34m\u001b[0m\u001b[0m\n\u001b[1;32m      3\u001b[0m                          verbose=1)\n",
      "\u001b[0;31mNameError\u001b[0m: name 'loaded_model' is not defined"
     ]
    }
   ],
   "source": [
    "preds = loaded_model.predict(x_testcnn, \n",
    "                         batch_size=32, \n",
    "                         verbose=1)"
   ]
  },
  {
   "cell_type": "code",
   "execution_count": 35,
   "metadata": {},
   "outputs": [
    {
     "data": {
      "text/plain": [
       "array([[1.2439590e-05, 9.9957174e-01, 1.7724629e-10, ..., 5.7634346e-09,\n",
       "        3.5014041e-04, 6.5748281e-05],\n",
       "       [7.3196371e-03, 6.6226993e-09, 3.3119486e-03, ..., 7.3782029e-04,\n",
       "        1.8941753e-07, 9.8845416e-01],\n",
       "       [1.5141332e-04, 1.6924986e-07, 9.9134934e-01, ..., 1.1977904e-06,\n",
       "        6.1472605e-09, 3.8999169e-05],\n",
       "       ...,\n",
       "       [8.4767509e-01, 7.5633864e-09, 1.5167035e-01, ..., 1.4291132e-04,\n",
       "        1.7725834e-07, 4.7712968e-04],\n",
       "       [4.6723611e-03, 2.7630952e-08, 9.9474961e-01, ..., 1.0059000e-05,\n",
       "        5.4174266e-06, 3.6026360e-04],\n",
       "       [9.0737468e-01, 1.5500322e-06, 9.2246041e-02, ..., 1.8227112e-04,\n",
       "        1.7483799e-04, 2.0692025e-05]], dtype=float32)"
      ]
     },
     "execution_count": 35,
     "metadata": {},
     "output_type": "execute_result"
    }
   ],
   "source": [
    "preds"
   ]
  },
  {
   "cell_type": "code",
   "execution_count": 36,
   "metadata": {},
   "outputs": [],
   "source": [
    "preds1=preds.argmax(axis=1) + 1"
   ]
  },
  {
   "cell_type": "code",
   "execution_count": null,
   "metadata": {},
   "outputs": [],
   "source": []
  },
  {
   "cell_type": "code",
   "execution_count": 37,
   "metadata": {},
   "outputs": [
    {
     "data": {
      "text/plain": [
       "array([2, 7, 3, 7, 5, 4, 5, 1, 7, 3, 7, 6, 5, 2, 3, 6, 4, 5, 6, 2, 6, 4,\n",
       "       5, 6, 4, 1, 4, 6, 7, 3, 7, 5, 2, 3, 1, 3, 1, 1, 4, 3, 3, 1, 7, 5,\n",
       "       6, 2, 6, 7, 5, 2, 2, 4, 5, 1, 3, 3, 4, 6, 4, 4, 6, 3, 7, 4, 4, 7,\n",
       "       3, 5, 2, 6, 7, 7, 7, 2, 2, 2, 4, 4, 3, 6, 2, 7, 2, 1, 5, 1, 1, 6,\n",
       "       7, 3, 5, 2, 1, 3, 6, 6, 5, 5, 4, 4, 5, 5, 4, 5, 7, 1, 2, 5, 1, 3,\n",
       "       5, 1, 4, 6, 1, 7, 5, 1, 7, 7, 2, 2, 2, 1, 2, 3, 6, 6, 1, 3, 1, 6,\n",
       "       4, 5, 2, 5, 6, 7, 3, 2, 4, 2, 1, 7, 5, 5, 7, 6, 1, 5, 1, 4, 7, 6,\n",
       "       5, 4, 5, 1, 2, 4, 2, 7, 7, 4, 1, 5, 1, 4, 2, 5, 2, 1, 4, 4, 7, 5,\n",
       "       6, 1, 5, 1, 2, 3, 1, 3, 6, 7, 3, 5, 4, 2, 2, 3, 2, 3, 5, 7, 3, 2,\n",
       "       7, 2, 2, 1, 3, 3, 1, 7, 3, 6, 6, 2, 3, 6, 5, 7, 4, 2, 6, 1, 5, 7,\n",
       "       3, 5, 7, 1, 5, 5, 3, 3, 4, 5, 7, 7, 2, 1, 3, 6, 1, 4, 5, 4, 6, 5,\n",
       "       4, 2, 2, 7, 4, 5, 2, 6, 1, 2, 3, 1, 7, 2, 1, 2, 7, 1, 1, 2, 1, 2,\n",
       "       2, 4, 7, 1, 3, 4, 2, 5, 5, 4, 6, 3, 3, 1, 7, 5, 2, 5, 3, 7, 7, 5,\n",
       "       4, 3, 6, 5, 2, 7, 5, 1, 4, 7, 1, 2, 5, 3, 6, 5, 6, 1, 6, 7, 6, 5,\n",
       "       3, 4, 6, 3, 5, 6, 6, 6, 5, 5, 7, 3, 4, 6, 7, 6, 5, 2, 6, 4, 3, 7,\n",
       "       3, 6, 7, 5, 5, 1, 7, 2, 7, 2, 1, 5, 6, 6, 2, 3, 1, 4, 7, 6, 5, 1,\n",
       "       3, 1, 4, 4, 1, 7, 1, 1, 1, 4, 3, 6, 6, 1, 1, 3, 4, 6, 7, 3, 2, 3,\n",
       "       5, 1, 2, 5, 5, 5, 3, 6, 3, 5, 4, 2, 5, 1, 5, 7, 7, 6, 4, 3, 7, 4,\n",
       "       7, 2, 4, 4, 5, 6, 7, 1, 7, 2, 3, 6, 1, 6, 2, 4, 2, 2, 6, 2, 3, 2,\n",
       "       2, 7, 3, 7, 3, 6, 4, 6, 1, 6, 7, 3, 1, 6, 4, 5, 4, 6, 2, 3, 5, 2,\n",
       "       7, 1, 7, 3, 2, 1, 6, 7, 5, 3, 5, 3, 2, 1, 7, 7, 4, 4, 7, 5, 7, 2,\n",
       "       1, 4, 2, 1, 4, 5, 4, 7, 1, 1, 1, 4, 7, 3, 7, 3, 4, 1, 4, 6, 1, 4,\n",
       "       6, 5, 3, 1, 2, 2, 3, 4, 5, 7, 6, 5, 2, 1, 6, 1, 1, 7, 6, 3, 4, 7,\n",
       "       2, 3, 5, 7, 2, 4, 1, 2, 7, 7, 1, 1, 1, 5, 1, 3, 6, 6, 5, 7, 1, 1,\n",
       "       1, 4, 2, 1, 3, 5, 6, 6, 4, 6, 3, 4, 2, 3, 1, 4, 4, 5, 2, 4, 3, 6,\n",
       "       4, 6, 7, 2, 5, 4, 7, 1, 3, 1])"
      ]
     },
     "execution_count": 37,
     "metadata": {},
     "output_type": "execute_result"
    }
   ],
   "source": [
    "preds1"
   ]
  },
  {
   "cell_type": "code",
   "execution_count": 38,
   "metadata": {},
   "outputs": [
    {
     "data": {
      "text/plain": [
       "array([2, 7, 3, 7, 5, 4, 5, 1, 7, 3, 7, 6, 5, 2, 3, 6, 4, 5, 6, 2, 6, 4,\n",
       "       5, 6, 4, 1, 4, 6, 7, 3, 7, 5, 2, 3, 1, 3, 1, 1, 4, 3, 3, 1, 7, 5,\n",
       "       6, 2, 6, 7, 5, 2, 2, 4, 5, 1, 3, 3, 4, 6, 4, 4, 6, 3, 7, 4, 4, 7,\n",
       "       3, 5, 2, 6, 7, 7, 7, 2, 2, 2, 4, 4, 3, 6, 2, 7, 2, 1, 5, 1, 1, 6,\n",
       "       7, 3, 5, 2, 1, 3, 6, 6, 5, 5, 4, 4, 5, 5, 4, 5, 7, 1, 2, 5, 1, 3,\n",
       "       5, 1, 4, 6, 1, 7, 5, 1, 7, 7, 2, 2, 2, 1, 2, 3, 6, 6, 1, 3, 1, 6,\n",
       "       4, 5, 2, 5, 6, 7, 3, 2, 4, 2, 1, 7, 5, 5, 7, 6, 1, 5, 1, 4, 7, 6,\n",
       "       5, 4, 5, 1, 2, 4, 2, 7, 7, 4, 1, 5, 1, 4, 2, 5, 2, 1, 4, 4, 7, 5,\n",
       "       6, 1, 5, 1, 2, 3, 1, 3, 6, 7, 3, 5, 4, 2, 2, 3, 2, 3, 5, 7, 3, 2,\n",
       "       7, 2, 2, 1, 3, 3, 1, 7, 3, 6, 6, 2, 3, 6, 5, 7, 4, 2, 6, 1, 5, 7,\n",
       "       3, 5, 7, 1, 5, 5, 3, 3, 4, 5, 7, 7, 2, 1, 3, 6, 1, 4, 5, 4, 6, 5,\n",
       "       4, 2, 2, 7, 4, 5, 2, 6, 1, 2, 3, 1, 7, 2, 1, 2, 7, 1, 1, 2, 1, 2,\n",
       "       2, 4, 7, 1, 3, 4, 2, 5, 5, 4, 6, 3, 3, 1, 7, 5, 2, 5, 3, 7, 7, 5,\n",
       "       4, 3, 6, 5, 2, 7, 5, 1, 4, 7, 1, 2, 5, 3, 6, 5, 6, 1, 6, 7, 6, 5,\n",
       "       3, 4, 6, 3, 5, 6, 6, 6, 5, 5, 7, 3, 4, 6, 7, 6, 5, 2, 6, 4, 3, 7,\n",
       "       3, 6, 7, 5, 5, 1, 7, 2, 7, 2, 1, 5, 6, 6, 2, 3, 1, 4, 7, 6, 5, 1,\n",
       "       3, 1, 4, 4, 1, 7, 1, 1, 1, 4, 3, 6, 6, 1, 1, 3, 4, 6, 7, 3, 2, 3,\n",
       "       5, 1, 2, 5, 5, 5, 3, 6, 3, 5, 4, 2, 5, 1, 5, 7, 7, 6, 4, 3, 7, 4,\n",
       "       7, 2, 4, 4, 5, 6, 7, 1, 7, 2, 3, 6, 1, 6, 2, 4, 2, 2, 6, 2, 3, 2,\n",
       "       2, 7, 3, 7, 3, 6, 4, 6, 1, 6, 7, 3, 1, 6, 4, 5, 4, 6, 2, 3, 5, 2,\n",
       "       7, 1, 7, 3, 2, 1, 6, 7, 5, 3, 5, 3, 2, 1, 7, 7, 4, 4, 7, 5, 7, 2,\n",
       "       1, 4, 2, 1, 4, 5, 4, 7, 1, 1, 1, 4, 7, 3, 7, 3, 4, 1, 4, 6, 1, 4,\n",
       "       6, 5, 3, 1, 2, 2, 3, 4, 5, 7, 6, 5, 2, 1, 6, 1, 1, 7, 6, 3, 4, 7,\n",
       "       2, 3, 5, 7, 2, 4, 1, 2, 7, 7, 1, 1, 1, 5, 1, 3, 6, 6, 5, 7, 1, 1,\n",
       "       1, 4, 2, 1, 3, 5, 6, 6, 4, 6, 3, 4, 2, 3, 1, 4, 4, 5, 2, 4, 3, 6,\n",
       "       4, 6, 7, 2, 5, 4, 7, 1, 3, 1])"
      ]
     },
     "execution_count": 38,
     "metadata": {},
     "output_type": "execute_result"
    }
   ],
   "source": [
    "abc = preds1.astype(int).flatten()\n",
    "abc"
   ]
  },
  {
   "cell_type": "code",
   "execution_count": 39,
   "metadata": {},
   "outputs": [],
   "source": [
    "actual=y_test.argmax(axis=1) + 1"
   ]
  },
  {
   "cell_type": "code",
   "execution_count": null,
   "metadata": {},
   "outputs": [],
   "source": []
  },
  {
   "cell_type": "code",
   "execution_count": 40,
   "metadata": {},
   "outputs": [
    {
     "data": {
      "text/plain": [
       "array([2, 7, 3, 7, 5, 4, 5, 1, 7, 3, 7, 6, 5, 2, 3, 6, 4, 5, 6, 2, 7, 7,\n",
       "       5, 6, 4, 3, 4, 6, 7, 3, 7, 5, 2, 3, 3, 3, 1, 2, 4, 3, 3, 1, 2, 5,\n",
       "       6, 2, 6, 7, 5, 2, 6, 4, 5, 1, 3, 3, 4, 6, 4, 4, 6, 3, 7, 4, 4, 7,\n",
       "       3, 5, 2, 6, 7, 7, 7, 2, 2, 2, 4, 4, 1, 6, 2, 7, 2, 1, 5, 1, 1, 6,\n",
       "       7, 3, 1, 2, 1, 7, 6, 6, 5, 5, 4, 4, 5, 5, 4, 5, 7, 1, 2, 2, 1, 3,\n",
       "       5, 1, 4, 6, 6, 7, 5, 1, 7, 7, 2, 2, 6, 1, 2, 1, 6, 6, 1, 3, 1, 6,\n",
       "       4, 5, 2, 5, 6, 7, 3, 2, 4, 2, 1, 7, 5, 5, 7, 6, 1, 5, 1, 4, 7, 6,\n",
       "       5, 4, 5, 1, 2, 3, 2, 3, 7, 4, 1, 5, 3, 4, 2, 5, 2, 3, 4, 4, 7, 5,\n",
       "       6, 1, 5, 1, 2, 3, 1, 3, 6, 7, 3, 5, 4, 2, 6, 3, 2, 3, 5, 7, 3, 2,\n",
       "       7, 2, 2, 1, 3, 3, 1, 7, 3, 6, 6, 2, 1, 6, 5, 7, 4, 2, 6, 7, 5, 7,\n",
       "       3, 5, 7, 1, 5, 5, 3, 3, 4, 5, 3, 7, 2, 1, 3, 6, 3, 4, 5, 4, 6, 5,\n",
       "       4, 2, 2, 7, 4, 5, 2, 6, 1, 2, 3, 1, 7, 2, 1, 2, 7, 1, 1, 2, 5, 2,\n",
       "       7, 4, 7, 1, 3, 4, 2, 4, 5, 4, 6, 7, 4, 1, 7, 5, 2, 5, 3, 7, 7, 5,\n",
       "       4, 3, 2, 5, 2, 7, 5, 3, 4, 7, 1, 2, 5, 3, 6, 5, 6, 1, 6, 4, 6, 5,\n",
       "       3, 4, 6, 3, 5, 6, 6, 6, 5, 5, 7, 3, 4, 6, 7, 6, 5, 2, 6, 4, 3, 7,\n",
       "       3, 6, 7, 5, 1, 4, 4, 2, 7, 2, 1, 5, 6, 6, 2, 3, 1, 4, 7, 6, 5, 5,\n",
       "       3, 4, 4, 4, 1, 7, 1, 1, 1, 4, 3, 6, 6, 1, 1, 4, 4, 6, 7, 3, 2, 3,\n",
       "       5, 6, 2, 5, 5, 5, 1, 6, 3, 5, 4, 2, 5, 3, 5, 7, 7, 6, 4, 1, 7, 4,\n",
       "       7, 2, 4, 4, 4, 6, 7, 3, 7, 6, 3, 6, 1, 6, 2, 4, 2, 2, 6, 2, 3, 2,\n",
       "       2, 7, 3, 7, 3, 6, 4, 6, 1, 6, 3, 1, 1, 6, 3, 5, 4, 2, 2, 3, 5, 6,\n",
       "       7, 1, 5, 3, 2, 1, 6, 7, 5, 3, 7, 3, 2, 1, 7, 7, 4, 4, 7, 2, 7, 2,\n",
       "       1, 4, 2, 1, 4, 5, 4, 7, 1, 1, 1, 4, 1, 3, 7, 3, 4, 1, 4, 6, 3, 4,\n",
       "       6, 5, 3, 1, 2, 2, 3, 4, 5, 7, 6, 5, 2, 1, 6, 6, 1, 7, 6, 3, 4, 7,\n",
       "       2, 3, 5, 7, 2, 5, 1, 2, 6, 7, 1, 1, 1, 5, 3, 4, 2, 1, 5, 7, 1, 1,\n",
       "       1, 4, 6, 1, 3, 5, 6, 6, 4, 6, 3, 4, 2, 3, 1, 4, 4, 5, 2, 3, 3, 6,\n",
       "       4, 6, 7, 2, 5, 4, 7, 1, 3, 1])"
      ]
     },
     "execution_count": 40,
     "metadata": {},
     "output_type": "execute_result"
    }
   ],
   "source": [
    "actual"
   ]
  },
  {
   "cell_type": "code",
   "execution_count": null,
   "metadata": {},
   "outputs": [],
   "source": []
  },
  {
   "cell_type": "code",
   "execution_count": null,
   "metadata": {},
   "outputs": [],
   "source": []
  },
  {
   "cell_type": "code",
   "execution_count": 41,
   "metadata": {},
   "outputs": [
    {
     "ename": "ValueError",
     "evalue": "y contains previously unseen labels: [7]",
     "output_type": "error",
     "traceback": [
      "\u001b[0;31m---------------------------------------------------------------------------\u001b[0m",
      "\u001b[0;31mValueError\u001b[0m                                Traceback (most recent call last)",
      "\u001b[0;32m<ipython-input-41-4314297b4c5f>\u001b[0m in \u001b[0;36m<module>\u001b[0;34m\u001b[0m\n\u001b[0;32m----> 1\u001b[0;31m \u001b[0mpredictions\u001b[0m \u001b[0;34m=\u001b[0m \u001b[0;34m(\u001b[0m\u001b[0mlb\u001b[0m\u001b[0;34m.\u001b[0m\u001b[0minverse_transform\u001b[0m\u001b[0;34m(\u001b[0m\u001b[0;34m(\u001b[0m\u001b[0mabc\u001b[0m\u001b[0;34m)\u001b[0m\u001b[0;34m)\u001b[0m\u001b[0;34m)\u001b[0m\u001b[0;34m\u001b[0m\u001b[0;34m\u001b[0m\u001b[0m\n\u001b[0m",
      "\u001b[0;32m~/miniconda3/envs/tensorflow/lib/python3.6/site-packages/sklearn/preprocessing/label.py\u001b[0m in \u001b[0;36minverse_transform\u001b[0;34m(self, y)\u001b[0m\n\u001b[1;32m    279\u001b[0m         \u001b[0;32mif\u001b[0m \u001b[0mlen\u001b[0m\u001b[0;34m(\u001b[0m\u001b[0mdiff\u001b[0m\u001b[0;34m)\u001b[0m\u001b[0;34m:\u001b[0m\u001b[0;34m\u001b[0m\u001b[0;34m\u001b[0m\u001b[0m\n\u001b[1;32m    280\u001b[0m             raise ValueError(\n\u001b[0;32m--> 281\u001b[0;31m                     \"y contains previously unseen labels: %s\" % str(diff))\n\u001b[0m\u001b[1;32m    282\u001b[0m         \u001b[0my\u001b[0m \u001b[0;34m=\u001b[0m \u001b[0mnp\u001b[0m\u001b[0;34m.\u001b[0m\u001b[0masarray\u001b[0m\u001b[0;34m(\u001b[0m\u001b[0my\u001b[0m\u001b[0;34m)\u001b[0m\u001b[0;34m\u001b[0m\u001b[0;34m\u001b[0m\u001b[0m\n\u001b[1;32m    283\u001b[0m         \u001b[0;32mreturn\u001b[0m \u001b[0mself\u001b[0m\u001b[0;34m.\u001b[0m\u001b[0mclasses_\u001b[0m\u001b[0;34m[\u001b[0m\u001b[0my\u001b[0m\u001b[0;34m]\u001b[0m\u001b[0;34m\u001b[0m\u001b[0;34m\u001b[0m\u001b[0m\n",
      "\u001b[0;31mValueError\u001b[0m: y contains previously unseen labels: [7]"
     ]
    }
   ],
   "source": [
    "predictions = (lb.inverse_transform((abc)))"
   ]
  },
  {
   "cell_type": "markdown",
   "metadata": {},
   "source": [
    "## live demo"
   ]
  },
  {
   "cell_type": "code",
   "execution_count": 56,
   "metadata": {},
   "outputs": [],
   "source": [
    "data, sampling_rate = librosa.load('data/2_1.wav')"
   ]
  },
  {
   "cell_type": "code",
   "execution_count": null,
   "metadata": {},
   "outputs": [],
   "source": []
  },
  {
   "cell_type": "code",
   "execution_count": 57,
   "metadata": {},
   "outputs": [
    {
     "name": "stdout",
     "output_type": "stream",
     "text": [
      "Populating the interactive namespace from numpy and matplotlib\n"
     ]
    },
    {
     "data": {
      "text/plain": [
       "<matplotlib.collections.PolyCollection at 0x1c5112b898>"
      ]
     },
     "execution_count": 57,
     "metadata": {},
     "output_type": "execute_result"
    },
    {
     "data": {
      "image/png": "[encoded data removed]",
      "text/plain": [
       "<Figure size 1080x360 with 1 Axes>"
      ]
     },
     "metadata": {
      "needs_background": "light"
     },
     "output_type": "display_data"
    }
   ],
   "source": [
    "%pylab inline\n",
    "import os\n",
    "import pandas as pd\n",
    "import librosa\n",
    "import glob \n",
    "\n",
    "plt.figure(figsize=(15, 5))\n",
    "librosa.display.waveplot(data, sr=sampling_rate)"
   ]
  },
  {
   "cell_type": "code",
   "execution_count": null,
   "metadata": {},
   "outputs": [],
   "source": []
  },
  {
   "cell_type": "code",
   "execution_count": 275,
   "metadata": {},
   "outputs": [
    {
     "name": "stdout",
     "output_type": "stream",
     "text": [
      "(129,)\n"
     ]
    }
   ],
   "source": [
    "X, sample_rate = librosa.load('output6.wav', res_type='kaiser_fast',duration=2,sr=22050*2,offset=0.5)\n",
    "sample_rate = np.array(sample_rate)\n",
    "mfccs = np.mean(librosa.feature.mfcc(y=X, sr=sample_rate, n_mfcc=13),axis=0)\n",
    "featurelive = mfccs\n",
    "livedf2 = featurelive\n",
    "print(livedf2.shape)\n",
    "result = np.zeros((173, 1))"
   ]
  },
  {
   "cell_type": "code",
   "execution_count": 276,
   "metadata": {},
   "outputs": [
    {
     "data": {
      "text/plain": [
       "129"
      ]
     },
     "execution_count": 276,
     "metadata": {},
     "output_type": "execute_result"
    }
   ],
   "source": [
    "livedf2.shape[0]"
   ]
  },
  {
   "cell_type": "code",
   "execution_count": null,
   "metadata": {},
   "outputs": [],
   "source": []
  },
  {
   "cell_type": "code",
   "execution_count": null,
   "metadata": {},
   "outputs": [],
   "source": []
  },
  {
   "cell_type": "code",
   "execution_count": null,
   "metadata": {},
   "outputs": [],
   "source": []
  },
  {
   "cell_type": "code",
   "execution_count": 277,
   "metadata": {},
   "outputs": [],
   "source": [
    "# result.shape\n",
    "livedf2.shape\n",
    "livedf2 = livedf2.reshape((livedf2.shape[0], 1))"
   ]
  },
  {
   "cell_type": "code",
   "execution_count": null,
   "metadata": {},
   "outputs": [],
   "source": []
  },
  {
   "cell_type": "code",
   "execution_count": 278,
   "metadata": {},
   "outputs": [],
   "source": [
    "result[:livedf2.shape[0],:livedf2.shape[1]] = livedf2"
   ]
  },
  {
   "cell_type": "code",
   "execution_count": null,
   "metadata": {},
   "outputs": [],
   "source": []
  },
  {
   "cell_type": "code",
   "execution_count": 279,
   "metadata": {},
   "outputs": [],
   "source": [
    "result= pd.DataFrame(data=result)"
   ]
  },
  {
   "cell_type": "code",
   "execution_count": null,
   "metadata": {},
   "outputs": [],
   "source": []
  },
  {
   "cell_type": "code",
   "execution_count": 280,
   "metadata": {},
   "outputs": [],
   "source": [
    "result = result.stack().to_frame().T"
   ]
  },
  {
   "cell_type": "code",
   "execution_count": 281,
   "metadata": {},
   "outputs": [
    {
     "data": {
      "text/html": [
       "<div>\n",
       "<style scoped>\n",
       "    .dataframe tbody tr th:only-of-type {\n",
       "        vertical-align: middle;\n",
       "    }\n",
       "\n",
       "    .dataframe tbody tr th {\n",
       "        vertical-align: top;\n",
       "    }\n",
       "\n",
       "    .dataframe thead tr th {\n",
       "        text-align: left;\n",
       "    }\n",
       "</style>\n",
       "<table border=\"1\" class=\"dataframe\">\n",
       "  <thead>\n",
       "    <tr>\n",
       "      <th></th>\n",
       "      <th>0</th>\n",
       "      <th>1</th>\n",
       "      <th>2</th>\n",
       "      <th>3</th>\n",
       "      <th>4</th>\n",
       "      <th>5</th>\n",
       "      <th>6</th>\n",
       "      <th>7</th>\n",
       "      <th>8</th>\n",
       "      <th>9</th>\n",
       "      <th>...</th>\n",
       "      <th>163</th>\n",
       "      <th>164</th>\n",
       "      <th>165</th>\n",
       "      <th>166</th>\n",
       "      <th>167</th>\n",
       "      <th>168</th>\n",
       "      <th>169</th>\n",
       "      <th>170</th>\n",
       "      <th>171</th>\n",
       "      <th>172</th>\n",
       "    </tr>\n",
       "    <tr>\n",
       "      <th></th>\n",
       "      <th>0</th>\n",
       "      <th>0</th>\n",
       "      <th>0</th>\n",
       "      <th>0</th>\n",
       "      <th>0</th>\n",
       "      <th>0</th>\n",
       "      <th>0</th>\n",
       "      <th>0</th>\n",
       "      <th>0</th>\n",
       "      <th>0</th>\n",
       "      <th>...</th>\n",
       "      <th>0</th>\n",
       "      <th>0</th>\n",
       "      <th>0</th>\n",
       "      <th>0</th>\n",
       "      <th>0</th>\n",
       "      <th>0</th>\n",
       "      <th>0</th>\n",
       "      <th>0</th>\n",
       "      <th>0</th>\n",
       "      <th>0</th>\n",
       "    </tr>\n",
       "  </thead>\n",
       "  <tbody>\n",
       "    <tr>\n",
       "      <th>0</th>\n",
       "      <td>-19.018922</td>\n",
       "      <td>-19.633565</td>\n",
       "      <td>-24.567061</td>\n",
       "      <td>-25.23261</td>\n",
       "      <td>-25.566915</td>\n",
       "      <td>-26.531978</td>\n",
       "      <td>-25.491727</td>\n",
       "      <td>-26.85103</td>\n",
       "      <td>-28.513885</td>\n",
       "      <td>-28.811535</td>\n",
       "      <td>...</td>\n",
       "      <td>0.0</td>\n",
       "      <td>0.0</td>\n",
       "      <td>0.0</td>\n",
       "      <td>0.0</td>\n",
       "      <td>0.0</td>\n",
       "      <td>0.0</td>\n",
       "      <td>0.0</td>\n",
       "      <td>0.0</td>\n",
       "      <td>0.0</td>\n",
       "      <td>0.0</td>\n",
       "    </tr>\n",
       "  </tbody>\n",
       "</table>\n",
       "<p>1 rows × 173 columns</p>\n",
       "</div>"
      ],
      "text/plain": [
       "         0          1          2         3          4          5          6    \\\n",
       "           0          0          0         0          0          0          0   \n",
       "0 -19.018922 -19.633565 -24.567061 -25.23261 -25.566915 -26.531978 -25.491727   \n",
       "\n",
       "        7          8          9   ...   163  164  165  166  167  168  169  \\\n",
       "          0          0          0 ...     0    0    0    0    0    0    0   \n",
       "0 -26.85103 -28.513885 -28.811535 ...   0.0  0.0  0.0  0.0  0.0  0.0  0.0   \n",
       "\n",
       "   170  171  172  \n",
       "     0    0    0  \n",
       "0  0.0  0.0  0.0  \n",
       "\n",
       "[1 rows x 173 columns]"
      ]
     },
     "execution_count": 281,
     "metadata": {},
     "output_type": "execute_result"
    }
   ],
   "source": [
    "result"
   ]
  },
  {
   "cell_type": "code",
   "execution_count": 282,
   "metadata": {},
   "outputs": [],
   "source": [
    "twodim= np.expand_dims(result, axis=2)"
   ]
  },
  {
   "cell_type": "code",
   "execution_count": 283,
   "metadata": {},
   "outputs": [
    {
     "name": "stdout",
     "output_type": "stream",
     "text": [
      "1/1 [==============================] - 0s 7ms/step\n"
     ]
    }
   ],
   "source": [
    "livepreds = loaded_model.predict(twodim, \n",
    "                         batch_size=32, \n",
    "                         verbose=1)"
   ]
  },
  {
   "cell_type": "code",
   "execution_count": 284,
   "metadata": {},
   "outputs": [
    {
     "data": {
      "text/plain": [
       "array([[1.0551734e-02, 4.6024696e-04, 2.7426831e-02, 1.6503824e-02,\n",
       "        1.5646853e-01, 8.0191479e-05, 7.8850871e-01]], dtype=float32)"
      ]
     },
     "execution_count": 284,
     "metadata": {},
     "output_type": "execute_result"
    }
   ],
   "source": [
    "livepreds"
   ]
  },
  {
   "cell_type": "code",
   "execution_count": 285,
   "metadata": {},
   "outputs": [],
   "source": [
    "livepreds1=livepreds.argmax(axis=1) + 1"
   ]
  },
  {
   "cell_type": "code",
   "execution_count": 286,
   "metadata": {},
   "outputs": [
    {
     "name": "stdout",
     "output_type": "stream",
     "text": [
      "[7]\n"
     ]
    }
   ],
   "source": [
    "print(livepreds1)"
   ]
  },
  {
   "cell_type": "code",
   "execution_count": null,
   "metadata": {},
   "outputs": [],
   "source": []
  },
  {
   "cell_type": "code",
   "execution_count": null,
   "metadata": {},
   "outputs": [],
   "source": []
  },
  {
   "cell_type": "code",
   "execution_count": null,
   "metadata": {},
   "outputs": [],
   "source": []
  },
  {
   "cell_type": "code",
   "execution_count": null,
   "metadata": {},
   "outputs": [],
   "source": []
  },
  {
   "cell_type": "code",
   "execution_count": null,
   "metadata": {},
   "outputs": [],
   "source": []
  },
  {
   "cell_type": "code",
   "execution_count": null,
   "metadata": {},
   "outputs": [],
   "source": []
  },
  {
   "cell_type": "code",
   "execution_count": null,
   "metadata": {},
   "outputs": [],
   "source": []
  },
  {
   "cell_type": "code",
   "execution_count": null,
   "metadata": {},
   "outputs": [],
   "source": []
  },
  {
   "cell_type": "code",
   "execution_count": null,
   "metadata": {},
   "outputs": [],
   "source": []
  },
  {
   "cell_type": "code",
   "execution_count": null,
   "metadata": {},
   "outputs": [],
   "source": []
  },
  {
   "cell_type": "code",
   "execution_count": null,
   "metadata": {},
   "outputs": [],
   "source": []
  },
  {
   "cell_type": "code",
   "execution_count": null,
   "metadata": {},
   "outputs": [],
   "source": []
  },
  {
   "cell_type": "code",
   "execution_count": null,
   "metadata": {},
   "outputs": [],
   "source": []
  },
  {
   "cell_type": "code",
   "execution_count": null,
   "metadata": {},
   "outputs": [],
   "source": []
  }
 ],
 "metadata": {
  "kernelspec": {
   "display_name": "Python 3",
   "language": "python",
   "name": "python3"
  },
  "language_info": {
   "codemirror_mode": {
    "name": "ipython",
    "version": 3
   },
   "file_extension": ".py",
   "mimetype": "text/x-python",
   "name": "python",
   "nbconvert_exporter": "python",
   "pygments_lexer": "ipython3",
   "version": "3.5.6"
  }
 },
 "nbformat": 4,
 "nbformat_minor": 2
}
